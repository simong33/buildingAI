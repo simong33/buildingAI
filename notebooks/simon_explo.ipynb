{
 "cells": [
  {
   "cell_type": "code",
   "execution_count": 1,
   "metadata": {},
   "outputs": [],
   "source": [
    "import os\n",
    "import pandas as pd\n",
    "import numpy as np\n",
    "\n",
    "import matplotlib.pyplot as plt\n",
    "import seaborn as sns\n",
    "\n",
    "from sklearn.preprocessing import OneHotEncoder, LabelEncoder\n",
    "from sklearn.model_selection import train_test_split, cross_val_score, GridSearchCV\n",
    "\n",
    "pd.set_option('display.max_columns', None)\n",
    "\n",
    "import xgboost as xgb\n",
    "import json\n",
    "from typing import Dict\n",
    "from shapely import wkt, ops\n",
    "from pyproj import Transformer\n",
    "from tqdm import tqdm\n"
   ]
  },
  {
   "cell_type": "markdown",
   "metadata": {},
   "source": [
    "## Prepare dataset\n",
    "### Download and extract data"
   ]
  },
  {
   "cell_type": "markdown",
   "metadata": {},
   "source": [
    "We are focusing on Paris for now."
   ]
  },
  {
   "cell_type": "code",
   "execution_count": null,
   "metadata": {},
   "outputs": [],
   "source": [
    "url = \"https://open-data.s3.fr-par.scw.cloud/bdnb_millesime_2022-10-d/millesime_2022-10-d_dep75/open_data_millesime_2022-10-d_dep75_csv.zip\"\n",
    "\n",
    "os.system(f\"wget -P data {url}\")\n",
    "os.system(\"unzip -o data/open_data_millesime_2022-10-d_dep75_csv.zip -d data\")\n",
    "os.system(\"rm data/open_data_millesime_2022-10-d_dep75_csv.zip\")"
   ]
  },
  {
   "cell_type": "markdown",
   "metadata": {},
   "source": [
    "### Extract geometries and DPE as a GeoJSON"
   ]
  },
  {
   "cell_type": "code",
   "execution_count": 2,
   "metadata": {},
   "outputs": [
    {
     "data": {
      "text/plain": [
       "(71458, 2)"
      ]
     },
     "execution_count": 2,
     "metadata": {},
     "output_type": "execute_result"
    }
   ],
   "source": [
    "df_geom = pd.read_csv(\"data/csv/batiment_groupe.csv\", sep=\",\")\n",
    "df_geom = df_geom[[\"batiment_groupe_id\", \"geom_groupe\"]]\n",
    "df_geom.shape"
   ]
  },
  {
   "cell_type": "code",
   "execution_count": 3,
   "metadata": {},
   "outputs": [
    {
     "data": {
      "text/plain": [
       "(47087, 2)"
      ]
     },
     "execution_count": 3,
     "metadata": {},
     "output_type": "execute_result"
    }
   ],
   "source": [
    "df_dpe = pd.read_csv(\"data/csv/batiment_groupe_dpe.csv\", sep=\",\")\n",
    "df_dpe = df_dpe[[\"batiment_groupe_id\", \"class_conso_ener_mean\"]]\n",
    "df_dpe.shape"
   ]
  },
  {
   "cell_type": "code",
   "execution_count": 4,
   "metadata": {},
   "outputs": [
    {
     "data": {
      "text/plain": [
       "(71458, 2)"
      ]
     },
     "execution_count": 4,
     "metadata": {},
     "output_type": "execute_result"
    }
   ],
   "source": [
    "df_height = pd.read_csv(\"data/csv/batiment_groupe_bdtopo_bat.csv\", sep=\",\")\n",
    "df_height = df_height[[\"batiment_groupe_id\", \"hauteur_mean\"]]\n",
    "df_height.shape"
   ]
  },
  {
   "cell_type": "code",
   "execution_count": 8,
   "metadata": {},
   "outputs": [
    {
     "data": {
      "text/plain": [
       "(71458, 4)"
      ]
     },
     "execution_count": 8,
     "metadata": {},
     "output_type": "execute_result"
    }
   ],
   "source": [
    "# merge 3 dataframes\n",
    "df_mapbox = df_geom.merge(df_dpe, on=\"batiment_groupe_id\", how=\"left\")\n",
    "df_mapbox = df_mapbox.merge(df_height, on=\"batiment_groupe_id\", how=\"left\")\n",
    "df_mapbox.shape"
   ]
  },
  {
   "cell_type": "code",
   "execution_count": 9,
   "metadata": {},
   "outputs": [
    {
     "data": {
      "text/html": [
       "<div>\n",
       "<style scoped>\n",
       "    .dataframe tbody tr th:only-of-type {\n",
       "        vertical-align: middle;\n",
       "    }\n",
       "\n",
       "    .dataframe tbody tr th {\n",
       "        vertical-align: top;\n",
       "    }\n",
       "\n",
       "    .dataframe thead th {\n",
       "        text-align: right;\n",
       "    }\n",
       "</style>\n",
       "<table border=\"1\" class=\"dataframe\">\n",
       "  <thead>\n",
       "    <tr style=\"text-align: right;\">\n",
       "      <th></th>\n",
       "      <th>batiment_groupe_id</th>\n",
       "      <th>geom_groupe</th>\n",
       "      <th>class_conso_ener_mean</th>\n",
       "      <th>hauteur_mean</th>\n",
       "    </tr>\n",
       "  </thead>\n",
       "  <tbody>\n",
       "    <tr>\n",
       "      <th>0</th>\n",
       "      <td>75102000AM0186_b9ea9d805215efe</td>\n",
       "      <td>MULTIPOLYGON (((652200.8 6863089.2,652200.0 68...</td>\n",
       "      <td>N</td>\n",
       "      <td>20</td>\n",
       "    </tr>\n",
       "    <tr>\n",
       "      <th>1</th>\n",
       "      <td>75105000AI0013_15713814b72666b</td>\n",
       "      <td>MULTIPOLYGON (((652253.9 6861094.1,652257.1 68...</td>\n",
       "      <td>N</td>\n",
       "      <td>5</td>\n",
       "    </tr>\n",
       "    <tr>\n",
       "      <th>2</th>\n",
       "      <td>uf751170005758_eb9ba44d60e1c89</td>\n",
       "      <td>MULTIPOLYGON (((649028.813311109 6866141.65815...</td>\n",
       "      <td>N</td>\n",
       "      <td>5</td>\n",
       "    </tr>\n",
       "    <tr>\n",
       "      <th>3</th>\n",
       "      <td>75114000AN0113_2e395dd3c45f67d</td>\n",
       "      <td>MULTIPOLYGON (((650650.343315098 6859622.70889...</td>\n",
       "      <td>N</td>\n",
       "      <td>15</td>\n",
       "    </tr>\n",
       "    <tr>\n",
       "      <th>4</th>\n",
       "      <td>75111000CL0129_4fa62d2e1d35454</td>\n",
       "      <td>MULTIPOLYGON (((655479.2 6861827.3,655476.9 68...</td>\n",
       "      <td>N</td>\n",
       "      <td>17</td>\n",
       "    </tr>\n",
       "  </tbody>\n",
       "</table>\n",
       "</div>"
      ],
      "text/plain": [
       "               batiment_groupe_id  \\\n",
       "0  75102000AM0186_b9ea9d805215efe   \n",
       "1  75105000AI0013_15713814b72666b   \n",
       "2  uf751170005758_eb9ba44d60e1c89   \n",
       "3  75114000AN0113_2e395dd3c45f67d   \n",
       "4  75111000CL0129_4fa62d2e1d35454   \n",
       "\n",
       "                                         geom_groupe class_conso_ener_mean  \\\n",
       "0  MULTIPOLYGON (((652200.8 6863089.2,652200.0 68...                     N   \n",
       "1  MULTIPOLYGON (((652253.9 6861094.1,652257.1 68...                     N   \n",
       "2  MULTIPOLYGON (((649028.813311109 6866141.65815...                     N   \n",
       "3  MULTIPOLYGON (((650650.343315098 6859622.70889...                     N   \n",
       "4  MULTIPOLYGON (((655479.2 6861827.3,655476.9 68...                     N   \n",
       "\n",
       "   hauteur_mean  \n",
       "0            20  \n",
       "1             5  \n",
       "2             5  \n",
       "3            15  \n",
       "4            17  "
      ]
     },
     "execution_count": 9,
     "metadata": {},
     "output_type": "execute_result"
    }
   ],
   "source": [
    "df_mapbox = df_mapbox.fillna(\"N\")\n",
    "df_mapbox.head()"
   ]
  },
  {
   "cell_type": "code",
   "execution_count": 6,
   "metadata": {},
   "outputs": [],
   "source": [
    "def df_to_geojson(df: pd.DataFrame, path: str, batch_size=500):\n",
    "    transformer = Transformer.from_crs(\"epsg:2154\", \"epsg:4326\", always_xy=True)\n",
    "    \n",
    "    with open(path, 'w') as f:\n",
    "        f.write('{\"type\": \"FeatureCollection\", \"features\": [')\n",
    "        \n",
    "        first_feature = True\n",
    "        for i in tqdm(range(0, len(df), batch_size), desc=\"Processing batches\"):\n",
    "            batch = df.iloc[i:i+batch_size]\n",
    "            \n",
    "            for idx, row in batch.iterrows():  # idx captures the index position of the row\n",
    "                try:\n",
    "                    geometry_wkt = row[\"geom_groupe\"] if pd.notna(row[\"geom_groupe\"]) else None\n",
    "                    if geometry_wkt:\n",
    "                        shape = wkt.loads(geometry_wkt)\n",
    "                        shape = ops.transform(transformer.transform, shape)\n",
    "                        geometry = shape.__geo_interface__\n",
    "                    else:\n",
    "                        geometry = None\n",
    "                except Exception as e:\n",
    "                    print(f\"Error with {row['batiment_groupe_id']}\")\n",
    "                    print(e)\n",
    "                    continue\n",
    "                \n",
    "                if geometry:\n",
    "                    feature = {\n",
    "                        \"type\": \"Feature\",\n",
    "                        \"id\": idx,  # Using the row index as the feature ID\n",
    "                        \"properties\": {prop: row[prop] for prop in df.columns if prop != \"geom_groupe\"},\n",
    "                        \"geometry\": geometry,\n",
    "                    }\n",
    "                    \n",
    "                    if not first_feature:\n",
    "                        f.write(',')\n",
    "                    else:\n",
    "                        first_feature = False\n",
    "                    \n",
    "                    json.dump(feature, f)\n",
    "                    \n",
    "        f.write(']}')"
   ]
  },
  {
   "cell_type": "code",
   "execution_count": 10,
   "metadata": {},
   "outputs": [
    {
     "name": "stderr",
     "output_type": "stream",
     "text": [
      "Processing batches: 100%|██████████| 143/143 [03:08<00:00,  1.32s/it]\n"
     ]
    }
   ],
   "source": [
    "if not os.path.exists(\"data/geojson\"):\n",
    "    os.makedirs(\"data/geojson\")\n",
    "df_to_geojson(df_mapbox, \"data/geojson/dpe_initial.geojson\")"
   ]
  },
  {
   "cell_type": "markdown",
   "metadata": {},
   "source": [
    "### Remove unnecessary files"
   ]
  },
  {
   "cell_type": "markdown",
   "metadata": {},
   "source": [
    "`csvt` files are not needed for this project (they are used in QGIS)."
   ]
  },
  {
   "cell_type": "code",
   "execution_count": 20,
   "metadata": {},
   "outputs": [
    {
     "data": {
      "text/plain": [
       "0"
      ]
     },
     "execution_count": 20,
     "metadata": {},
     "output_type": "execute_result"
    }
   ],
   "source": [
    "os.system(\"rm data/csv/*.csvt\")"
   ]
  },
  {
   "cell_type": "markdown",
   "metadata": {},
   "source": [
    "Detailed list of tables and their relations can be found [here](https://www.bdnb.eu/schema/v07_2022_10_c/index.html)."
   ]
  },
  {
   "cell_type": "code",
   "execution_count": null,
   "metadata": {},
   "outputs": [],
   "source": [
    "unrelevant_tables = [\n",
    "    'proprietaire', 'parcelle', 'dvf_open', 'merimee', 'qpv',\n",
    "    'dvf_open_statistique', 'dvf_open_representatif', 'argiles',\n",
    "    'geospx', 'radon', 'osm_building'\n",
    "]\n",
    "\n",
    "for table in unrelevant_tables:\n",
    "    os.system(f\"rm data/csv/{table}.csv\")\n",
    "    os.system(f\"rm data/csv/batiment_groupe_{table}.csv\")\n",
    "    os.system(f\"rm data/csv/rel_batiment_groupe_{table}.csv\")\n",
    "    \n",
    "print(f\"Number of files in the data folder: {len(os.listdir('data/csv'))}\")"
   ]
  },
  {
   "cell_type": "code",
   "execution_count": 3,
   "metadata": {},
   "outputs": [],
   "source": [
    "df_bats = pd.read_csv(\"data/csv/batiment_groupe.csv\", sep=\",\")"
   ]
  },
  {
   "cell_type": "code",
   "execution_count": 25,
   "metadata": {},
   "outputs": [
    {
     "name": "stdout",
     "output_type": "stream",
     "text": [
      "Number of rows in the df_bats dataframe: 71458\n"
     ]
    }
   ],
   "source": [
    "print(f\"Number of rows in the df_bats dataframe: {df_bats.shape[0]}\")"
   ]
  },
  {
   "cell_type": "markdown",
   "metadata": {},
   "source": [
    "### Merging Buildings with their DPE"
   ]
  },
  {
   "cell_type": "code",
   "execution_count": 4,
   "metadata": {},
   "outputs": [
    {
     "name": "stdout",
     "output_type": "stream",
     "text": [
      "Number of rows in the df_bats dataframe after the merge: 47087\n"
     ]
    }
   ],
   "source": [
    "df_dpe = pd.read_csv(\"data/csv/batiment_groupe_dpe.csv\", sep=\",\")\n",
    "df_dpe = df_dpe[[\"batiment_groupe_id\", \"class_conso_ener_mean\"]]\n",
    "df_bats = df_bats.merge(df_dpe, on=\"batiment_groupe_id\", how=\"right\")\n",
    "print (f\"Number of rows in the df_bats dataframe after the merge: {df_bats.shape[0]}\")"
   ]
  },
  {
   "cell_type": "code",
   "execution_count": 5,
   "metadata": {},
   "outputs": [],
   "source": [
    "df_ffo = pd.read_csv(\"data/csv/batiment_groupe_ffo_bat.csv\", sep=\",\")\n",
    "df_bats = df_bats.merge(df_ffo, on=\"batiment_groupe_id\", how=\"left\")"
   ]
  },
  {
   "cell_type": "code",
   "execution_count": 6,
   "metadata": {},
   "outputs": [],
   "source": [
    "df_conso_elec = pd.read_csv(\"data/csv/batiment_groupe_dle_elec_2020.csv\", sep=\",\")\n",
    "df_bats = df_bats.merge(df_conso_elec, on=\"batiment_groupe_id\", how=\"left\")"
   ]
  },
  {
   "cell_type": "code",
   "execution_count": 56,
   "metadata": {},
   "outputs": [
    {
     "data": {
      "text/html": [
       "<div>\n",
       "<style scoped>\n",
       "    .dataframe tbody tr th:only-of-type {\n",
       "        vertical-align: middle;\n",
       "    }\n",
       "\n",
       "    .dataframe tbody tr th {\n",
       "        vertical-align: top;\n",
       "    }\n",
       "\n",
       "    .dataframe thead th {\n",
       "        text-align: right;\n",
       "    }\n",
       "</style>\n",
       "<table border=\"1\" class=\"dataframe\">\n",
       "  <thead>\n",
       "    <tr style=\"text-align: right;\">\n",
       "      <th></th>\n",
       "      <th>geom_groupe</th>\n",
       "      <th>batiment_groupe_id</th>\n",
       "      <th>code_departement_insee_x</th>\n",
       "      <th>s_geom_groupe</th>\n",
       "      <th>code_iris</th>\n",
       "      <th>code_commune_insee</th>\n",
       "      <th>libelle_commune_insee</th>\n",
       "      <th>code_epci_insee</th>\n",
       "      <th>contient_fictive_geom_groupe</th>\n",
       "      <th>class_conso_ener_mean</th>\n",
       "      <th>code_departement_insee_y</th>\n",
       "      <th>annee_construction</th>\n",
       "      <th>usage_niveau_1_txt</th>\n",
       "      <th>mat_mur_txt</th>\n",
       "      <th>mat_toit_txt</th>\n",
       "      <th>nb_log</th>\n",
       "      <th>code_departement_insee</th>\n",
       "      <th>nb_pdl_res</th>\n",
       "      <th>nb_pdl_pro</th>\n",
       "      <th>nb_pdl_tot</th>\n",
       "      <th>conso_res</th>\n",
       "      <th>conso_pro</th>\n",
       "      <th>conso_tot</th>\n",
       "      <th>conso_res_par_pdl</th>\n",
       "      <th>conso_pro_par_pdl</th>\n",
       "      <th>conso_tot_par_pdl</th>\n",
       "    </tr>\n",
       "  </thead>\n",
       "  <tbody>\n",
       "    <tr>\n",
       "      <th>0</th>\n",
       "      <td>MULTIPOLYGON (((650293.046070325 6860715.43352...</td>\n",
       "      <td>75106000AX0072_8f312a91b4c6c1f</td>\n",
       "      <td>75</td>\n",
       "      <td>NaN</td>\n",
       "      <td>751062306.0</td>\n",
       "      <td>75056.0</td>\n",
       "      <td>Paris</td>\n",
       "      <td>200054781.0</td>\n",
       "      <td>1</td>\n",
       "      <td>G</td>\n",
       "      <td>75</td>\n",
       "      <td>1890.0</td>\n",
       "      <td>Résidentiel collectif</td>\n",
       "      <td>MEULIERE - PIERRE</td>\n",
       "      <td>ZINC ALUMINIUM</td>\n",
       "      <td>6</td>\n",
       "      <td>NaN</td>\n",
       "      <td>NaN</td>\n",
       "      <td>NaN</td>\n",
       "      <td>NaN</td>\n",
       "      <td>NaN</td>\n",
       "      <td>NaN</td>\n",
       "      <td>NaN</td>\n",
       "      <td>NaN</td>\n",
       "      <td>NaN</td>\n",
       "      <td>NaN</td>\n",
       "    </tr>\n",
       "    <tr>\n",
       "      <th>1</th>\n",
       "      <td>MULTIPOLYGON (((655378.647803063 6864050.06480...</td>\n",
       "      <td>75120000AE0076_0f572212c6d8bef</td>\n",
       "      <td>75</td>\n",
       "      <td>NaN</td>\n",
       "      <td>751207712.0</td>\n",
       "      <td>75056.0</td>\n",
       "      <td>Paris</td>\n",
       "      <td>200054781.0</td>\n",
       "      <td>1</td>\n",
       "      <td>E</td>\n",
       "      <td>75</td>\n",
       "      <td>2008.0</td>\n",
       "      <td>Résidentiel collectif</td>\n",
       "      <td>INDETERMINE</td>\n",
       "      <td>INDETERMINE</td>\n",
       "      <td>8</td>\n",
       "      <td>NaN</td>\n",
       "      <td>NaN</td>\n",
       "      <td>NaN</td>\n",
       "      <td>NaN</td>\n",
       "      <td>NaN</td>\n",
       "      <td>NaN</td>\n",
       "      <td>NaN</td>\n",
       "      <td>NaN</td>\n",
       "      <td>NaN</td>\n",
       "      <td>NaN</td>\n",
       "    </tr>\n",
       "    <tr>\n",
       "      <th>2</th>\n",
       "      <td>MULTIPOLYGON (((651451.4 6863131.9,651446.5 68...</td>\n",
       "      <td>75101000AV0068_974bcbe7e818135</td>\n",
       "      <td>75</td>\n",
       "      <td>229.0</td>\n",
       "      <td>751010301.0</td>\n",
       "      <td>75056.0</td>\n",
       "      <td>Paris</td>\n",
       "      <td>200054781.0</td>\n",
       "      <td>0</td>\n",
       "      <td>N</td>\n",
       "      <td>75</td>\n",
       "      <td>1770.0</td>\n",
       "      <td>Résidentiel collectif</td>\n",
       "      <td>BOIS - MEULIERE</td>\n",
       "      <td>ARDOISES - ZINC ALUMINIUM</td>\n",
       "      <td>11</td>\n",
       "      <td>75.0</td>\n",
       "      <td>11.0</td>\n",
       "      <td>0.0</td>\n",
       "      <td>11.0</td>\n",
       "      <td>41414.8</td>\n",
       "      <td>0.0</td>\n",
       "      <td>41414.8</td>\n",
       "      <td>3764.982</td>\n",
       "      <td>NaN</td>\n",
       "      <td>3764.982</td>\n",
       "    </tr>\n",
       "    <tr>\n",
       "      <th>3</th>\n",
       "      <td>MULTIPOLYGON (((652719.9 6863356.4,652725.8 68...</td>\n",
       "      <td>75103000AB0044_5dce797b740e30f</td>\n",
       "      <td>75</td>\n",
       "      <td>54.0</td>\n",
       "      <td>751030901.0</td>\n",
       "      <td>75056.0</td>\n",
       "      <td>Paris</td>\n",
       "      <td>200054781.0</td>\n",
       "      <td>0</td>\n",
       "      <td>G</td>\n",
       "      <td>75</td>\n",
       "      <td>1800.0</td>\n",
       "      <td>Résidentiel collectif</td>\n",
       "      <td>PIERRE - AUTRES</td>\n",
       "      <td>TUILES</td>\n",
       "      <td>7</td>\n",
       "      <td>NaN</td>\n",
       "      <td>NaN</td>\n",
       "      <td>NaN</td>\n",
       "      <td>NaN</td>\n",
       "      <td>NaN</td>\n",
       "      <td>NaN</td>\n",
       "      <td>NaN</td>\n",
       "      <td>NaN</td>\n",
       "      <td>NaN</td>\n",
       "      <td>NaN</td>\n",
       "    </tr>\n",
       "    <tr>\n",
       "      <th>4</th>\n",
       "      <td>MULTIPOLYGON (((648013.005160536 6861418.02680...</td>\n",
       "      <td>75115000DK0052_1fa8850f144d769</td>\n",
       "      <td>75</td>\n",
       "      <td>NaN</td>\n",
       "      <td>751155920.0</td>\n",
       "      <td>75056.0</td>\n",
       "      <td>Paris</td>\n",
       "      <td>200054781.0</td>\n",
       "      <td>1</td>\n",
       "      <td>N</td>\n",
       "      <td>75</td>\n",
       "      <td>1900.0</td>\n",
       "      <td>Résidentiel collectif</td>\n",
       "      <td>BRIQUES</td>\n",
       "      <td>TUILES</td>\n",
       "      <td>10</td>\n",
       "      <td>NaN</td>\n",
       "      <td>NaN</td>\n",
       "      <td>NaN</td>\n",
       "      <td>NaN</td>\n",
       "      <td>NaN</td>\n",
       "      <td>NaN</td>\n",
       "      <td>NaN</td>\n",
       "      <td>NaN</td>\n",
       "      <td>NaN</td>\n",
       "      <td>NaN</td>\n",
       "    </tr>\n",
       "  </tbody>\n",
       "</table>\n",
       "</div>"
      ],
      "text/plain": [
       "                                         geom_groupe  \\\n",
       "0  MULTIPOLYGON (((650293.046070325 6860715.43352...   \n",
       "1  MULTIPOLYGON (((655378.647803063 6864050.06480...   \n",
       "2  MULTIPOLYGON (((651451.4 6863131.9,651446.5 68...   \n",
       "3  MULTIPOLYGON (((652719.9 6863356.4,652725.8 68...   \n",
       "4  MULTIPOLYGON (((648013.005160536 6861418.02680...   \n",
       "\n",
       "               batiment_groupe_id  code_departement_insee_x  s_geom_groupe  \\\n",
       "0  75106000AX0072_8f312a91b4c6c1f                        75            NaN   \n",
       "1  75120000AE0076_0f572212c6d8bef                        75            NaN   \n",
       "2  75101000AV0068_974bcbe7e818135                        75          229.0   \n",
       "3  75103000AB0044_5dce797b740e30f                        75           54.0   \n",
       "4  75115000DK0052_1fa8850f144d769                        75            NaN   \n",
       "\n",
       "     code_iris  code_commune_insee libelle_commune_insee  code_epci_insee  \\\n",
       "0  751062306.0             75056.0                 Paris      200054781.0   \n",
       "1  751207712.0             75056.0                 Paris      200054781.0   \n",
       "2  751010301.0             75056.0                 Paris      200054781.0   \n",
       "3  751030901.0             75056.0                 Paris      200054781.0   \n",
       "4  751155920.0             75056.0                 Paris      200054781.0   \n",
       "\n",
       "   contient_fictive_geom_groupe class_conso_ener_mean  \\\n",
       "0                             1                     G   \n",
       "1                             1                     E   \n",
       "2                             0                     N   \n",
       "3                             0                     G   \n",
       "4                             1                     N   \n",
       "\n",
       "   code_departement_insee_y  annee_construction     usage_niveau_1_txt  \\\n",
       "0                        75              1890.0  Résidentiel collectif   \n",
       "1                        75              2008.0  Résidentiel collectif   \n",
       "2                        75              1770.0  Résidentiel collectif   \n",
       "3                        75              1800.0  Résidentiel collectif   \n",
       "4                        75              1900.0  Résidentiel collectif   \n",
       "\n",
       "         mat_mur_txt               mat_toit_txt  nb_log  \\\n",
       "0  MEULIERE - PIERRE             ZINC ALUMINIUM       6   \n",
       "1        INDETERMINE                INDETERMINE       8   \n",
       "2    BOIS - MEULIERE  ARDOISES - ZINC ALUMINIUM      11   \n",
       "3    PIERRE - AUTRES                     TUILES       7   \n",
       "4            BRIQUES                     TUILES      10   \n",
       "\n",
       "   code_departement_insee  nb_pdl_res  nb_pdl_pro  nb_pdl_tot  conso_res  \\\n",
       "0                     NaN         NaN         NaN         NaN        NaN   \n",
       "1                     NaN         NaN         NaN         NaN        NaN   \n",
       "2                    75.0        11.0         0.0        11.0    41414.8   \n",
       "3                     NaN         NaN         NaN         NaN        NaN   \n",
       "4                     NaN         NaN         NaN         NaN        NaN   \n",
       "\n",
       "   conso_pro  conso_tot  conso_res_par_pdl  conso_pro_par_pdl  \\\n",
       "0        NaN        NaN                NaN                NaN   \n",
       "1        NaN        NaN                NaN                NaN   \n",
       "2        0.0    41414.8           3764.982                NaN   \n",
       "3        NaN        NaN                NaN                NaN   \n",
       "4        NaN        NaN                NaN                NaN   \n",
       "\n",
       "   conso_tot_par_pdl  \n",
       "0                NaN  \n",
       "1                NaN  \n",
       "2           3764.982  \n",
       "3                NaN  \n",
       "4                NaN  "
      ]
     },
     "execution_count": 56,
     "metadata": {},
     "output_type": "execute_result"
    }
   ],
   "source": [
    "df_bats.head()"
   ]
  },
  {
   "cell_type": "markdown",
   "metadata": {},
   "source": [
    "## Prepare data for training"
   ]
  },
  {
   "cell_type": "code",
   "execution_count": 7,
   "metadata": {},
   "outputs": [],
   "source": [
    "df_bats = df_bats.dropna(axis=1, thresh=0.5*df_bats.shape[0])\n",
    "df_bats = df_bats.dropna(axis=0)"
   ]
  },
  {
   "cell_type": "code",
   "execution_count": 8,
   "metadata": {},
   "outputs": [],
   "source": [
    "y = df_bats[\"class_conso_ener_mean\"]\n",
    "X = df_bats.drop([\"class_conso_ener_mean\"], axis=1)"
   ]
  },
  {
   "cell_type": "code",
   "execution_count": 181,
   "metadata": {},
   "outputs": [
    {
     "data": {
      "text/plain": [
       "((32101, 24), (32101,))"
      ]
     },
     "execution_count": 181,
     "metadata": {},
     "output_type": "execute_result"
    }
   ],
   "source": [
    "X.shape, y.shape"
   ]
  },
  {
   "cell_type": "code",
   "execution_count": 9,
   "metadata": {},
   "outputs": [],
   "source": [
    "features_to_keep = [\n",
    "    'annee_construction', 'usage_niveau_1_txt', 'mat_mur_txt', 'mat_toit_txt', 'nb_log'\n",
    "]\n",
    "X = X[features_to_keep]"
   ]
  },
  {
   "cell_type": "code",
   "execution_count": 10,
   "metadata": {},
   "outputs": [
    {
     "data": {
      "text/plain": [
       "(32101, 5)"
      ]
     },
     "execution_count": 10,
     "metadata": {},
     "output_type": "execute_result"
    }
   ],
   "source": [
    "X.shape"
   ]
  },
  {
   "cell_type": "code",
   "execution_count": 11,
   "metadata": {},
   "outputs": [
    {
     "name": "stderr",
     "output_type": "stream",
     "text": [
      "/home/simon/.pyenv/versions/3.10.6/envs/lewagon/lib/python3.10/site-packages/sklearn/preprocessing/_encoders.py:972: FutureWarning: `sparse` was renamed to `sparse_output` in version 1.2 and will be removed in 1.4. `sparse_output` is ignored unless you leave `sparse` to its default value.\n",
      "  warnings.warn(\n"
     ]
    }
   ],
   "source": [
    "categorical_features = [\n",
    "    'usage_niveau_1_txt', 'mat_mur_txt', 'mat_toit_txt'\n",
    "]\n",
    "ohe = OneHotEncoder(sparse=False)\n",
    "X_ohe = ohe.fit_transform(X[categorical_features])\n",
    "X_ohe = pd.DataFrame(X_ohe, columns=ohe.get_feature_names_out(categorical_features), index=X.index)"
   ]
  },
  {
   "cell_type": "code",
   "execution_count": 14,
   "metadata": {},
   "outputs": [
    {
     "data": {
      "text/plain": [
       "(32101, 51)"
      ]
     },
     "execution_count": 14,
     "metadata": {},
     "output_type": "execute_result"
    }
   ],
   "source": [
    "X = pd.concat([X.drop(categorical_features, axis=1), X_ohe], axis=1)\n",
    "X.shape"
   ]
  },
  {
   "cell_type": "code",
   "execution_count": 19,
   "metadata": {},
   "outputs": [
    {
     "data": {
      "text/plain": [
       "array([7, 5, 5, ..., 3, 3, 4])"
      ]
     },
     "execution_count": 19,
     "metadata": {},
     "output_type": "execute_result"
    }
   ],
   "source": [
    "le = LabelEncoder()\n",
    "y_encoded = le.fit_transform(y)"
   ]
  },
  {
   "cell_type": "markdown",
   "metadata": {},
   "source": [
    "### Split data into train and test sets"
   ]
  },
  {
   "cell_type": "code",
   "execution_count": 29,
   "metadata": {},
   "outputs": [],
   "source": [
    "X_train, X_test, y_train, y_test = train_test_split(X, y_encoded, test_size=0.2, random_state=42)"
   ]
  },
  {
   "cell_type": "markdown",
   "metadata": {},
   "source": [
    "### Train model"
   ]
  },
  {
   "cell_type": "code",
   "execution_count": 30,
   "metadata": {},
   "outputs": [],
   "source": [
    "xgb_model = xgb.XGBClassifier(objective=\"multi:softmax\", random_state=42)\n",
    "grid_params = {\n",
    "    \"n_estimators\": [20, 50, 60],\n",
    "    \"max_depth\": [1, 2, 3],\n",
    "    \"learning_rate\": [0.001, 0.01, 0.1]\n",
    "}\n",
    "\n",
    "search = GridSearchCV(xgb_model, grid_params, scoring=\"accuracy\", cv=5, n_jobs=-1)"
   ]
  },
  {
   "cell_type": "code",
   "execution_count": 31,
   "metadata": {},
   "outputs": [
    {
     "data": {
      "text/html": [
       "<style>#sk-container-id-3 {color: black;}#sk-container-id-3 pre{padding: 0;}#sk-container-id-3 div.sk-toggleable {background-color: white;}#sk-container-id-3 label.sk-toggleable__label {cursor: pointer;display: block;width: 100%;margin-bottom: 0;padding: 0.3em;box-sizing: border-box;text-align: center;}#sk-container-id-3 label.sk-toggleable__label-arrow:before {content: \"▸\";float: left;margin-right: 0.25em;color: #696969;}#sk-container-id-3 label.sk-toggleable__label-arrow:hover:before {color: black;}#sk-container-id-3 div.sk-estimator:hover label.sk-toggleable__label-arrow:before {color: black;}#sk-container-id-3 div.sk-toggleable__content {max-height: 0;max-width: 0;overflow: hidden;text-align: left;background-color: #f0f8ff;}#sk-container-id-3 div.sk-toggleable__content pre {margin: 0.2em;color: black;border-radius: 0.25em;background-color: #f0f8ff;}#sk-container-id-3 input.sk-toggleable__control:checked~div.sk-toggleable__content {max-height: 200px;max-width: 100%;overflow: auto;}#sk-container-id-3 input.sk-toggleable__control:checked~label.sk-toggleable__label-arrow:before {content: \"▾\";}#sk-container-id-3 div.sk-estimator input.sk-toggleable__control:checked~label.sk-toggleable__label {background-color: #d4ebff;}#sk-container-id-3 div.sk-label input.sk-toggleable__control:checked~label.sk-toggleable__label {background-color: #d4ebff;}#sk-container-id-3 input.sk-hidden--visually {border: 0;clip: rect(1px 1px 1px 1px);clip: rect(1px, 1px, 1px, 1px);height: 1px;margin: -1px;overflow: hidden;padding: 0;position: absolute;width: 1px;}#sk-container-id-3 div.sk-estimator {font-family: monospace;background-color: #f0f8ff;border: 1px dotted black;border-radius: 0.25em;box-sizing: border-box;margin-bottom: 0.5em;}#sk-container-id-3 div.sk-estimator:hover {background-color: #d4ebff;}#sk-container-id-3 div.sk-parallel-item::after {content: \"\";width: 100%;border-bottom: 1px solid gray;flex-grow: 1;}#sk-container-id-3 div.sk-label:hover label.sk-toggleable__label {background-color: #d4ebff;}#sk-container-id-3 div.sk-serial::before {content: \"\";position: absolute;border-left: 1px solid gray;box-sizing: border-box;top: 0;bottom: 0;left: 50%;z-index: 0;}#sk-container-id-3 div.sk-serial {display: flex;flex-direction: column;align-items: center;background-color: white;padding-right: 0.2em;padding-left: 0.2em;position: relative;}#sk-container-id-3 div.sk-item {position: relative;z-index: 1;}#sk-container-id-3 div.sk-parallel {display: flex;align-items: stretch;justify-content: center;background-color: white;position: relative;}#sk-container-id-3 div.sk-item::before, #sk-container-id-3 div.sk-parallel-item::before {content: \"\";position: absolute;border-left: 1px solid gray;box-sizing: border-box;top: 0;bottom: 0;left: 50%;z-index: -1;}#sk-container-id-3 div.sk-parallel-item {display: flex;flex-direction: column;z-index: 1;position: relative;background-color: white;}#sk-container-id-3 div.sk-parallel-item:first-child::after {align-self: flex-end;width: 50%;}#sk-container-id-3 div.sk-parallel-item:last-child::after {align-self: flex-start;width: 50%;}#sk-container-id-3 div.sk-parallel-item:only-child::after {width: 0;}#sk-container-id-3 div.sk-dashed-wrapped {border: 1px dashed gray;margin: 0 0.4em 0.5em 0.4em;box-sizing: border-box;padding-bottom: 0.4em;background-color: white;}#sk-container-id-3 div.sk-label label {font-family: monospace;font-weight: bold;display: inline-block;line-height: 1.2em;}#sk-container-id-3 div.sk-label-container {text-align: center;}#sk-container-id-3 div.sk-container {/* jupyter's `normalize.less` sets `[hidden] { display: none; }` but bootstrap.min.css set `[hidden] { display: none !important; }` so we also need the `!important` here to be able to override the default hidden behavior on the sphinx rendered scikit-learn.org. See: https://github.com/scikit-learn/scikit-learn/issues/21755 */display: inline-block !important;position: relative;}#sk-container-id-3 div.sk-text-repr-fallback {display: none;}</style><div id=\"sk-container-id-3\" class=\"sk-top-container\"><div class=\"sk-text-repr-fallback\"><pre>GridSearchCV(cv=5,\n",
       "             estimator=XGBClassifier(base_score=None, booster=None,\n",
       "                                     callbacks=None, colsample_bylevel=None,\n",
       "                                     colsample_bynode=None,\n",
       "                                     colsample_bytree=None,\n",
       "                                     early_stopping_rounds=None,\n",
       "                                     enable_categorical=False, eval_metric=None,\n",
       "                                     gamma=None, gpu_id=None, grow_policy=None,\n",
       "                                     importance_type=None,\n",
       "                                     interaction_constraints=None,\n",
       "                                     learning_rate=None, max_bin=None,\n",
       "                                     max_ca...\n",
       "                                     max_delta_step=None, max_depth=None,\n",
       "                                     max_leaves=None, min_child_weight=None,\n",
       "                                     missing=nan, monotone_constraints=None,\n",
       "                                     n_estimators=100, n_jobs=None,\n",
       "                                     num_parallel_tree=None,\n",
       "                                     objective=&#x27;multi:softmax&#x27;, predictor=None,\n",
       "                                     random_state=42, reg_alpha=None, ...),\n",
       "             n_jobs=-1,\n",
       "             param_grid={&#x27;learning_rate&#x27;: [0.001, 0.01, 0.1],\n",
       "                         &#x27;max_depth&#x27;: [1, 2, 3], &#x27;n_estimators&#x27;: [20, 50, 60]},\n",
       "             scoring=&#x27;accuracy&#x27;)</pre><b>In a Jupyter environment, please rerun this cell to show the HTML representation or trust the notebook. <br />On GitHub, the HTML representation is unable to render, please try loading this page with nbviewer.org.</b></div><div class=\"sk-container\" hidden><div class=\"sk-item sk-dashed-wrapped\"><div class=\"sk-label-container\"><div class=\"sk-label sk-toggleable\"><input class=\"sk-toggleable__control sk-hidden--visually\" id=\"sk-estimator-id-7\" type=\"checkbox\" ><label for=\"sk-estimator-id-7\" class=\"sk-toggleable__label sk-toggleable__label-arrow\">GridSearchCV</label><div class=\"sk-toggleable__content\"><pre>GridSearchCV(cv=5,\n",
       "             estimator=XGBClassifier(base_score=None, booster=None,\n",
       "                                     callbacks=None, colsample_bylevel=None,\n",
       "                                     colsample_bynode=None,\n",
       "                                     colsample_bytree=None,\n",
       "                                     early_stopping_rounds=None,\n",
       "                                     enable_categorical=False, eval_metric=None,\n",
       "                                     gamma=None, gpu_id=None, grow_policy=None,\n",
       "                                     importance_type=None,\n",
       "                                     interaction_constraints=None,\n",
       "                                     learning_rate=None, max_bin=None,\n",
       "                                     max_ca...\n",
       "                                     max_delta_step=None, max_depth=None,\n",
       "                                     max_leaves=None, min_child_weight=None,\n",
       "                                     missing=nan, monotone_constraints=None,\n",
       "                                     n_estimators=100, n_jobs=None,\n",
       "                                     num_parallel_tree=None,\n",
       "                                     objective=&#x27;multi:softmax&#x27;, predictor=None,\n",
       "                                     random_state=42, reg_alpha=None, ...),\n",
       "             n_jobs=-1,\n",
       "             param_grid={&#x27;learning_rate&#x27;: [0.001, 0.01, 0.1],\n",
       "                         &#x27;max_depth&#x27;: [1, 2, 3], &#x27;n_estimators&#x27;: [20, 50, 60]},\n",
       "             scoring=&#x27;accuracy&#x27;)</pre></div></div></div><div class=\"sk-parallel\"><div class=\"sk-parallel-item\"><div class=\"sk-item\"><div class=\"sk-label-container\"><div class=\"sk-label sk-toggleable\"><input class=\"sk-toggleable__control sk-hidden--visually\" id=\"sk-estimator-id-8\" type=\"checkbox\" ><label for=\"sk-estimator-id-8\" class=\"sk-toggleable__label sk-toggleable__label-arrow\">estimator: XGBClassifier</label><div class=\"sk-toggleable__content\"><pre>XGBClassifier(base_score=None, booster=None, callbacks=None,\n",
       "              colsample_bylevel=None, colsample_bynode=None,\n",
       "              colsample_bytree=None, early_stopping_rounds=None,\n",
       "              enable_categorical=False, eval_metric=None, gamma=None,\n",
       "              gpu_id=None, grow_policy=None, importance_type=None,\n",
       "              interaction_constraints=None, learning_rate=None, max_bin=None,\n",
       "              max_cat_to_onehot=None, max_delta_step=None, max_depth=None,\n",
       "              max_leaves=None, min_child_weight=None, missing=nan,\n",
       "              monotone_constraints=None, n_estimators=100, n_jobs=None,\n",
       "              num_parallel_tree=None, objective=&#x27;multi:softmax&#x27;, predictor=None,\n",
       "              random_state=42, reg_alpha=None, ...)</pre></div></div></div><div class=\"sk-serial\"><div class=\"sk-item\"><div class=\"sk-estimator sk-toggleable\"><input class=\"sk-toggleable__control sk-hidden--visually\" id=\"sk-estimator-id-9\" type=\"checkbox\" ><label for=\"sk-estimator-id-9\" class=\"sk-toggleable__label sk-toggleable__label-arrow\">XGBClassifier</label><div class=\"sk-toggleable__content\"><pre>XGBClassifier(base_score=None, booster=None, callbacks=None,\n",
       "              colsample_bylevel=None, colsample_bynode=None,\n",
       "              colsample_bytree=None, early_stopping_rounds=None,\n",
       "              enable_categorical=False, eval_metric=None, gamma=None,\n",
       "              gpu_id=None, grow_policy=None, importance_type=None,\n",
       "              interaction_constraints=None, learning_rate=None, max_bin=None,\n",
       "              max_cat_to_onehot=None, max_delta_step=None, max_depth=None,\n",
       "              max_leaves=None, min_child_weight=None, missing=nan,\n",
       "              monotone_constraints=None, n_estimators=100, n_jobs=None,\n",
       "              num_parallel_tree=None, objective=&#x27;multi:softmax&#x27;, predictor=None,\n",
       "              random_state=42, reg_alpha=None, ...)</pre></div></div></div></div></div></div></div></div></div></div>"
      ],
      "text/plain": [
       "GridSearchCV(cv=5,\n",
       "             estimator=XGBClassifier(base_score=None, booster=None,\n",
       "                                     callbacks=None, colsample_bylevel=None,\n",
       "                                     colsample_bynode=None,\n",
       "                                     colsample_bytree=None,\n",
       "                                     early_stopping_rounds=None,\n",
       "                                     enable_categorical=False, eval_metric=None,\n",
       "                                     gamma=None, gpu_id=None, grow_policy=None,\n",
       "                                     importance_type=None,\n",
       "                                     interaction_constraints=None,\n",
       "                                     learning_rate=None, max_bin=None,\n",
       "                                     max_ca...\n",
       "                                     max_delta_step=None, max_depth=None,\n",
       "                                     max_leaves=None, min_child_weight=None,\n",
       "                                     missing=nan, monotone_constraints=None,\n",
       "                                     n_estimators=100, n_jobs=None,\n",
       "                                     num_parallel_tree=None,\n",
       "                                     objective='multi:softmax', predictor=None,\n",
       "                                     random_state=42, reg_alpha=None, ...),\n",
       "             n_jobs=-1,\n",
       "             param_grid={'learning_rate': [0.001, 0.01, 0.1],\n",
       "                         'max_depth': [1, 2, 3], 'n_estimators': [20, 50, 60]},\n",
       "             scoring='accuracy')"
      ]
     },
     "execution_count": 31,
     "metadata": {},
     "output_type": "execute_result"
    }
   ],
   "source": [
    "search.fit(X_train, y_train)"
   ]
  },
  {
   "cell_type": "code",
   "execution_count": 27,
   "metadata": {},
   "outputs": [
    {
     "data": {
      "text/plain": [
       "{'learning_rate': 0.1, 'max_depth': 3, 'n_estimators': 50}"
      ]
     },
     "execution_count": 27,
     "metadata": {},
     "output_type": "execute_result"
    }
   ],
   "source": [
    "search.best_params_"
   ]
  },
  {
   "cell_type": "code",
   "execution_count": 28,
   "metadata": {},
   "outputs": [
    {
     "data": {
      "text/plain": [
       "0.35623052959501555"
      ]
     },
     "execution_count": 28,
     "metadata": {},
     "output_type": "execute_result"
    }
   ],
   "source": [
    "search.best_score_"
   ]
  }
 ],
 "metadata": {
  "kernelspec": {
   "display_name": "Python 3.10.6 64-bit ('lewagon')",
   "language": "python",
   "name": "python3"
  },
  "language_info": {
   "codemirror_mode": {
    "name": "ipython",
    "version": 3
   },
   "file_extension": ".py",
   "mimetype": "text/x-python",
   "name": "python",
   "nbconvert_exporter": "python",
   "pygments_lexer": "ipython3",
   "version": "3.10.6"
  },
  "orig_nbformat": 4,
  "vscode": {
   "interpreter": {
    "hash": "0d8e1ac6c08f2e3ab18bb45651e3c4bbadb4a4ddb0ac7d33180d2aa75fc3d0af"
   }
  }
 },
 "nbformat": 4,
 "nbformat_minor": 2
}
